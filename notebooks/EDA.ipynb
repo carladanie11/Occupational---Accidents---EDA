{
 "cells": [
  {
   "cell_type": "markdown",
   "metadata": {},
   "source": [
    "Inspección Inicial del Archivo"
   ]
  },
  {
   "cell_type": "code",
   "execution_count": 1,
   "metadata": {},
   "outputs": [
    {
     "name": "stdout",
     "output_type": "stream",
     "text": [
      "Tipo de dato antes: object\n",
      "Tipo de dato después: float64\n",
      "Cantidad de valores convertidos en NaN: 36543\n"
     ]
    }
   ],
   "source": [
    "import pandas as pd\n",
    "\n",
    "# Cargar los datos sin especificar tipos\n",
    "df = pd.read_csv(\"../data/OSHA/Data.csv\", low_memory=False)\n",
    "\n",
    "# Verificar el tipo de la columna antes de la conversión\n",
    "columna_objetivo = df.columns[3]  # Nombre de la columna en la posición 3\n",
    "print(f\"Tipo de dato antes: {df[columna_objetivo].dtype}\")\n",
    "\n",
    "# Eliminar espacios en blanco o caracteres extraños en la columna (si los hay)\n",
    "df[columna_objetivo] = df[columna_objetivo].astype(str).str.strip()\n",
    "\n",
    "# Intentar conversión a numérico nuevamente\n",
    "df[columna_objetivo] = pd.to_numeric(df[columna_objetivo], errors=\"coerce\")\n",
    "\n",
    "# Verificar el tipo de la columna después de la conversión\n",
    "print(f\"Tipo de dato después: {df[columna_objetivo].dtype}\")\n",
    "\n",
    "# Contar valores NaN\n",
    "print(f\"Cantidad de valores convertidos en NaN: {df[columna_objetivo].isna().sum()}\")\n"
   ]
  },
  {
   "cell_type": "code",
   "execution_count": 2,
   "metadata": {},
   "outputs": [
    {
     "name": "stdout",
     "output_type": "stream",
     "text": [
      "[nan]\n"
     ]
    }
   ],
   "source": [
    "# Mostrar valores únicos problemáticos\n",
    "valores_problematicos = df[df[columna_objetivo].isna()][columna_objetivo]\n",
    "print(valores_problematicos.unique())  # Ver qué valores están causando problemas"
   ]
  },
  {
   "cell_type": "markdown",
   "metadata": {},
   "source": [
    "Manejo de NaN"
   ]
  },
  {
   "cell_type": "code",
   "execution_count": 3,
   "metadata": {},
   "outputs": [
    {
     "name": "stdout",
     "output_type": "stream",
     "text": [
      "Total de filas en el dataset: 346799\n"
     ]
    }
   ],
   "source": [
    "# Ver cuántos registros totales tiene el dataset\n",
    "print(f\"Total de filas en el dataset: {df.shape[0]}\")"
   ]
  },
  {
   "cell_type": "code",
   "execution_count": 4,
   "metadata": {},
   "outputs": [],
   "source": [
    "# eliminar filas no afectará el análisis\n",
    "df.dropna(subset=[columna_objetivo], inplace=True)"
   ]
  },
  {
   "cell_type": "code",
   "execution_count": 5,
   "metadata": {},
   "outputs": [
    {
     "name": "stdout",
     "output_type": "stream",
     "text": [
      "Cantidad de valores NaN después de la limpieza: 0\n",
      "Total de filas después de la limpieza: 310256\n"
     ]
    }
   ],
   "source": [
    "# Verificar que ya no hay NaN en la columna\n",
    "print(f\"Cantidad de valores NaN después de la limpieza: {df[columna_objetivo].isna().sum()}\")\n",
    "\n",
    "# Verificar el nuevo tamaño del dataset\n",
    "print(f\"Total de filas después de la limpieza: {df.shape[0]}\")\n"
   ]
  },
  {
   "cell_type": "code",
   "execution_count": 6,
   "metadata": {},
   "outputs": [
    {
     "name": "stdout",
     "output_type": "stream",
     "text": [
      "        id                                     company_name  \\\n",
      "0  1752479                     Diamond S Mobile Welding LLC   \n",
      "1  1752480  T&J Industries Development and Contracting, Inc   \n",
      "2  1752481                                 Divine Power LLC   \n",
      "3  1752482                                           Vac2Go   \n",
      "4  1752483                                           Vac2Go   \n",
      "\n",
      "                                establishment_name          ein  \\\n",
      "0                     Diamond S Mobile Welding LLC  870992458.0   \n",
      "1  T&J Industries Development and Contracting, Inc  271904473.0   \n",
      "2                                 Divine Power LLC  820978176.0   \n",
      "3                           Crown Point, IN Branch  800771071.0   \n",
      "4                             Deer Park, TX Branch  800771071.0   \n",
      "\n",
      "        street_address         city state  zip_code  naics_code  \\\n",
      "0  101 W. Hamlin Trail   Frostproof    FL     33843      333992   \n",
      "1    4600 Cleveland Rd     Lithonia    GA     30038      237110   \n",
      "2   4422 Highway 29 S.         Hope    AR     71801      237130   \n",
      "3   601 East 112th Ave  Crown Point    IN     46307      532120   \n",
      "4        1150 Hall Ct.    Deer Park    TX     77536      532120   \n",
      "\n",
      "                                industry_description  ...  \\\n",
      "0                                            Welding  ...   \n",
      "1                                utility contractors  ...   \n",
      "2                                         Power Line  ...   \n",
      "3                      Vacuum Truck Rental & Service  ...   \n",
      "4  Truck, Utility Trailer, and RV (Recreational V...  ...   \n",
      "\n",
      "   total_respiratory_conditions  total_skin_disorders  total_hearing_loss  \\\n",
      "0                             0                     0                   0   \n",
      "1                             0                     0                   0   \n",
      "2                             0                     0                   0   \n",
      "3                             0                     0                   0   \n",
      "4                             0                     0                   0   \n",
      "\n",
      "   total_other_illnesses  establishment_id  establishment_type  size  \\\n",
      "0                      0            905945                 1.0     1   \n",
      "1                      0            812418                 1.0     2   \n",
      "2                      0            913636                 1.0     2   \n",
      "3                      0            914148                 1.0     1   \n",
      "4                      0            914149                 1.0     1   \n",
      "\n",
      "   year_filing_for  created_timestamp  change_reason  \n",
      "0             2022           1/1/2023            NaN  \n",
      "1             2022           1/1/2023            NaN  \n",
      "2             2022           1/1/2023            NaN  \n",
      "3             2022           1/1/2023            NaN  \n",
      "4             2022           1/1/2023            NaN  \n",
      "\n",
      "[5 rows x 31 columns]\n",
      "<class 'pandas.core.frame.DataFrame'>\n",
      "Index: 310256 entries, 0 to 346798\n",
      "Data columns (total 31 columns):\n",
      " #   Column                        Non-Null Count   Dtype  \n",
      "---  ------                        --------------   -----  \n",
      " 0   id                            310256 non-null  int64  \n",
      " 1   company_name                  299886 non-null  object \n",
      " 2   establishment_name            310255 non-null  object \n",
      " 3   ein                           310256 non-null  float64\n",
      " 4   street_address                310255 non-null  object \n",
      " 5   city                          310255 non-null  object \n",
      " 6   state                         310256 non-null  object \n",
      " 7   zip_code                      310256 non-null  int64  \n",
      " 8   naics_code                    310256 non-null  int64  \n",
      " 9   industry_description          287793 non-null  object \n",
      " 10  annual_average_employees      310256 non-null  int64  \n",
      " 11  total_hours_worked            310255 non-null  float64\n",
      " 12  no_injuries_illnesses         310256 non-null  int64  \n",
      " 13  total_deaths                  310256 non-null  int64  \n",
      " 14  total_dafw_cases              310256 non-null  int64  \n",
      " 15  total_djtr_cases              310256 non-null  int64  \n",
      " 16  total_other_cases             310256 non-null  int64  \n",
      " 17  total_dafw_days               310256 non-null  int64  \n",
      " 18  total_djtr_days               310256 non-null  int64  \n",
      " 19  total_injuries                310256 non-null  int64  \n",
      " 20  total_poisonings              310256 non-null  int64  \n",
      " 21  total_respiratory_conditions  310256 non-null  int64  \n",
      " 22  total_skin_disorders          310256 non-null  int64  \n",
      " 23  total_hearing_loss            310256 non-null  int64  \n",
      " 24  total_other_illnesses         310256 non-null  int64  \n",
      " 25  establishment_id              310256 non-null  int64  \n",
      " 26  establishment_type            309036 non-null  float64\n",
      " 27  size                          310256 non-null  int64  \n",
      " 28  year_filing_for               310256 non-null  int64  \n",
      " 29  created_timestamp             310256 non-null  object \n",
      " 30  change_reason                 9063 non-null    object \n",
      "dtypes: float64(3), int64(20), object(8)\n",
      "memory usage: 75.7+ MB\n",
      "None\n",
      "id                                   0\n",
      "company_name                     10370\n",
      "establishment_name                   1\n",
      "ein                                  0\n",
      "street_address                       1\n",
      "city                                 1\n",
      "state                                0\n",
      "zip_code                             0\n",
      "naics_code                           0\n",
      "industry_description             22463\n",
      "annual_average_employees             0\n",
      "total_hours_worked                   1\n",
      "no_injuries_illnesses                0\n",
      "total_deaths                         0\n",
      "total_dafw_cases                     0\n",
      "total_djtr_cases                     0\n",
      "total_other_cases                    0\n",
      "total_dafw_days                      0\n",
      "total_djtr_days                      0\n",
      "total_injuries                       0\n",
      "total_poisonings                     0\n",
      "total_respiratory_conditions         0\n",
      "total_skin_disorders                 0\n",
      "total_hearing_loss                   0\n",
      "total_other_illnesses                0\n",
      "establishment_id                     0\n",
      "establishment_type                1220\n",
      "size                                 0\n",
      "year_filing_for                      0\n",
      "created_timestamp                    0\n",
      "change_reason                   301193\n",
      "dtype: int64\n"
     ]
    }
   ],
   "source": [
    "# Inspeccionar las primeras filas\n",
    "print(df.head())\n",
    "\n",
    "# Verificar información general\n",
    "print(df.info())\n",
    "\n",
    "# Revisar valores nulos\n",
    "print(df.isnull().sum())\n"
   ]
  },
  {
   "cell_type": "markdown",
   "metadata": {},
   "source": [
    "# Exploración de Datos (EDA)"
   ]
  },
  {
   "cell_type": "markdown",
   "metadata": {},
   "source": [
    "Inspección General"
   ]
  },
  {
   "cell_type": "code",
   "execution_count": 7,
   "metadata": {},
   "outputs": [
    {
     "name": "stdout",
     "output_type": "stream",
     "text": [
      "Total de filas duplicadas: 0\n"
     ]
    }
   ],
   "source": [
    "\n",
    "# verificar si hay valores duplicados\n",
    "print(f\"Total de filas duplicadas: {df.duplicated().sum()}\")"
   ]
  },
  {
   "cell_type": "code",
   "execution_count": 8,
   "metadata": {},
   "outputs": [],
   "source": [
    "# Manejo de Valores Faltantes: Columnas con pocos valores faltantes\n",
    "df.dropna(subset=[\"establishment_name\", \"street_address\", \"city\", \"total_hours_worked\"], inplace=True)"
   ]
  },
  {
   "cell_type": "code",
   "execution_count": 9,
   "metadata": {},
   "outputs": [],
   "source": [
    "# Columnas con muchos valores NaN\n",
    "df.drop(columns=[\"change_reason\"], inplace=True)"
   ]
  },
  {
   "cell_type": "code",
   "execution_count": 10,
   "metadata": {},
   "outputs": [],
   "source": [
    "df[\"industry_description\"] = df[\"industry_description\"].fillna(\"Unknown\")\n",
    "df[\"establishment_type\"] = df[\"establishment_type\"].fillna(df[\"establishment_type\"].mode()[0])  # Rellenar con el valor más común"
   ]
  },
  {
   "cell_type": "code",
   "execution_count": 11,
   "metadata": {},
   "outputs": [
    {
     "name": "stdout",
     "output_type": "stream",
     "text": [
      "id                                  0\n",
      "company_name                    10370\n",
      "establishment_name                  0\n",
      "ein                                 0\n",
      "street_address                      0\n",
      "city                                0\n",
      "state                               0\n",
      "zip_code                            0\n",
      "naics_code                          0\n",
      "industry_description                0\n",
      "annual_average_employees            0\n",
      "total_hours_worked                  0\n",
      "no_injuries_illnesses               0\n",
      "total_deaths                        0\n",
      "total_dafw_cases                    0\n",
      "total_djtr_cases                    0\n",
      "total_other_cases                   0\n",
      "total_dafw_days                     0\n",
      "total_djtr_days                     0\n",
      "total_injuries                      0\n",
      "total_poisonings                    0\n",
      "total_respiratory_conditions        0\n",
      "total_skin_disorders                0\n",
      "total_hearing_loss                  0\n",
      "total_other_illnesses               0\n",
      "establishment_id                    0\n",
      "establishment_type                  0\n",
      "size                                0\n",
      "year_filing_for                     0\n",
      "created_timestamp                   0\n",
      "dtype: int64\n"
     ]
    }
   ],
   "source": [
    "# Revisar nuevamente los valores NaN\n",
    "print(df.isnull().sum())"
   ]
  },
  {
   "cell_type": "code",
   "execution_count": 12,
   "metadata": {},
   "outputs": [],
   "source": [
    "df[\"company_name\"] = df[\"company_name\"].fillna(df[\"establishment_name\"])"
   ]
  },
  {
   "cell_type": "code",
   "execution_count": 13,
   "metadata": {},
   "outputs": [
    {
     "data": {
      "text/plain": [
       "0"
      ]
     },
     "execution_count": 13,
     "metadata": {},
     "output_type": "execute_result"
    }
   ],
   "source": [
    "df[\"company_name\"].isna().sum()"
   ]
  },
  {
   "cell_type": "markdown",
   "metadata": {},
   "source": [
    "Estadísticas descriptivas del dataset"
   ]
  },
  {
   "cell_type": "code",
   "execution_count": 14,
   "metadata": {},
   "outputs": [
    {
     "data": {
      "text/html": [
       "<div>\n",
       "<style scoped>\n",
       "    .dataframe tbody tr th:only-of-type {\n",
       "        vertical-align: middle;\n",
       "    }\n",
       "\n",
       "    .dataframe tbody tr th {\n",
       "        vertical-align: top;\n",
       "    }\n",
       "\n",
       "    .dataframe thead th {\n",
       "        text-align: right;\n",
       "    }\n",
       "</style>\n",
       "<table border=\"1\" class=\"dataframe\">\n",
       "  <thead>\n",
       "    <tr style=\"text-align: right;\">\n",
       "      <th></th>\n",
       "      <th>id</th>\n",
       "      <th>ein</th>\n",
       "      <th>zip_code</th>\n",
       "      <th>naics_code</th>\n",
       "      <th>annual_average_employees</th>\n",
       "      <th>total_hours_worked</th>\n",
       "      <th>no_injuries_illnesses</th>\n",
       "      <th>total_deaths</th>\n",
       "      <th>total_dafw_cases</th>\n",
       "      <th>total_djtr_cases</th>\n",
       "      <th>...</th>\n",
       "      <th>total_injuries</th>\n",
       "      <th>total_poisonings</th>\n",
       "      <th>total_respiratory_conditions</th>\n",
       "      <th>total_skin_disorders</th>\n",
       "      <th>total_hearing_loss</th>\n",
       "      <th>total_other_illnesses</th>\n",
       "      <th>establishment_id</th>\n",
       "      <th>establishment_type</th>\n",
       "      <th>size</th>\n",
       "      <th>year_filing_for</th>\n",
       "    </tr>\n",
       "  </thead>\n",
       "  <tbody>\n",
       "    <tr>\n",
       "      <th>count</th>\n",
       "      <td>3.102530e+05</td>\n",
       "      <td>3.102530e+05</td>\n",
       "      <td>3.102530e+05</td>\n",
       "      <td>310253.000000</td>\n",
       "      <td>3.102530e+05</td>\n",
       "      <td>3.102530e+05</td>\n",
       "      <td>310253.000000</td>\n",
       "      <td>310253.000000</td>\n",
       "      <td>310253.000000</td>\n",
       "      <td>310253.000000</td>\n",
       "      <td>...</td>\n",
       "      <td>310253.000000</td>\n",
       "      <td>310253.000000</td>\n",
       "      <td>310253.000000</td>\n",
       "      <td>310253.000000</td>\n",
       "      <td>310253.000000</td>\n",
       "      <td>310253.000000</td>\n",
       "      <td>3.102530e+05</td>\n",
       "      <td>310253.000000</td>\n",
       "      <td>310253.000000</td>\n",
       "      <td>310253.0</td>\n",
       "    </tr>\n",
       "    <tr>\n",
       "      <th>mean</th>\n",
       "      <td>1.929420e+06</td>\n",
       "      <td>5.033580e+08</td>\n",
       "      <td>1.759189e+07</td>\n",
       "      <td>465541.355639</td>\n",
       "      <td>7.647129e+02</td>\n",
       "      <td>3.540227e+05</td>\n",
       "      <td>1.381911</td>\n",
       "      <td>0.002630</td>\n",
       "      <td>2.238473</td>\n",
       "      <td>1.223772</td>\n",
       "      <td>...</td>\n",
       "      <td>3.810713</td>\n",
       "      <td>0.001795</td>\n",
       "      <td>0.808427</td>\n",
       "      <td>0.018201</td>\n",
       "      <td>0.030552</td>\n",
       "      <td>0.258231</td>\n",
       "      <td>7.132095e+05</td>\n",
       "      <td>1.070646</td>\n",
       "      <td>1.951272</td>\n",
       "      <td>2022.0</td>\n",
       "    </tr>\n",
       "    <tr>\n",
       "      <th>std</th>\n",
       "      <td>9.963610e+04</td>\n",
       "      <td>2.580139e+08</td>\n",
       "      <td>1.080365e+08</td>\n",
       "      <td>159700.115232</td>\n",
       "      <td>3.436168e+05</td>\n",
       "      <td>1.805380e+07</td>\n",
       "      <td>0.485856</td>\n",
       "      <td>0.072435</td>\n",
       "      <td>13.171043</td>\n",
       "      <td>7.914521</td>\n",
       "      <td>...</td>\n",
       "      <td>17.025374</td>\n",
       "      <td>0.065227</td>\n",
       "      <td>9.886273</td>\n",
       "      <td>0.271576</td>\n",
       "      <td>0.608843</td>\n",
       "      <td>3.850749</td>\n",
       "      <td>3.031010e+05</td>\n",
       "      <td>0.349787</td>\n",
       "      <td>0.780987</td>\n",
       "      <td>0.0</td>\n",
       "    </tr>\n",
       "    <tr>\n",
       "      <th>min</th>\n",
       "      <td>1.752479e+06</td>\n",
       "      <td>0.000000e+00</td>\n",
       "      <td>0.000000e+00</td>\n",
       "      <td>111110.000000</td>\n",
       "      <td>0.000000e+00</td>\n",
       "      <td>0.000000e+00</td>\n",
       "      <td>1.000000</td>\n",
       "      <td>0.000000</td>\n",
       "      <td>0.000000</td>\n",
       "      <td>0.000000</td>\n",
       "      <td>...</td>\n",
       "      <td>0.000000</td>\n",
       "      <td>0.000000</td>\n",
       "      <td>0.000000</td>\n",
       "      <td>0.000000</td>\n",
       "      <td>0.000000</td>\n",
       "      <td>0.000000</td>\n",
       "      <td>4.192900e+04</td>\n",
       "      <td>0.000000</td>\n",
       "      <td>1.000000</td>\n",
       "      <td>2022.0</td>\n",
       "    </tr>\n",
       "    <tr>\n",
       "      <th>25%</th>\n",
       "      <td>1.845054e+06</td>\n",
       "      <td>3.200277e+08</td>\n",
       "      <td>2.957200e+04</td>\n",
       "      <td>333517.000000</td>\n",
       "      <td>2.200000e+01</td>\n",
       "      <td>3.394100e+04</td>\n",
       "      <td>1.000000</td>\n",
       "      <td>0.000000</td>\n",
       "      <td>0.000000</td>\n",
       "      <td>0.000000</td>\n",
       "      <td>...</td>\n",
       "      <td>0.000000</td>\n",
       "      <td>0.000000</td>\n",
       "      <td>0.000000</td>\n",
       "      <td>0.000000</td>\n",
       "      <td>0.000000</td>\n",
       "      <td>0.000000</td>\n",
       "      <td>4.724140e+05</td>\n",
       "      <td>1.000000</td>\n",
       "      <td>2.000000</td>\n",
       "      <td>2022.0</td>\n",
       "    </tr>\n",
       "    <tr>\n",
       "      <th>50%</th>\n",
       "      <td>1.930580e+06</td>\n",
       "      <td>4.647663e+08</td>\n",
       "      <td>5.044100e+04</td>\n",
       "      <td>448130.000000</td>\n",
       "      <td>4.500000e+01</td>\n",
       "      <td>7.720500e+04</td>\n",
       "      <td>1.000000</td>\n",
       "      <td>0.000000</td>\n",
       "      <td>0.000000</td>\n",
       "      <td>0.000000</td>\n",
       "      <td>...</td>\n",
       "      <td>1.000000</td>\n",
       "      <td>0.000000</td>\n",
       "      <td>0.000000</td>\n",
       "      <td>0.000000</td>\n",
       "      <td>0.000000</td>\n",
       "      <td>0.000000</td>\n",
       "      <td>8.269840e+05</td>\n",
       "      <td>1.000000</td>\n",
       "      <td>2.000000</td>\n",
       "      <td>2022.0</td>\n",
       "    </tr>\n",
       "    <tr>\n",
       "      <th>75%</th>\n",
       "      <td>2.015178e+06</td>\n",
       "      <td>7.415395e+08</td>\n",
       "      <td>7.911900e+04</td>\n",
       "      <td>561720.000000</td>\n",
       "      <td>1.070000e+02</td>\n",
       "      <td>1.820180e+05</td>\n",
       "      <td>2.000000</td>\n",
       "      <td>0.000000</td>\n",
       "      <td>1.000000</td>\n",
       "      <td>1.000000</td>\n",
       "      <td>...</td>\n",
       "      <td>3.000000</td>\n",
       "      <td>0.000000</td>\n",
       "      <td>0.000000</td>\n",
       "      <td>0.000000</td>\n",
       "      <td>0.000000</td>\n",
       "      <td>0.000000</td>\n",
       "      <td>9.727110e+05</td>\n",
       "      <td>1.000000</td>\n",
       "      <td>2.000000</td>\n",
       "      <td>2022.0</td>\n",
       "    </tr>\n",
       "    <tr>\n",
       "      <th>max</th>\n",
       "      <td>2.101831e+06</td>\n",
       "      <td>1.000000e+09</td>\n",
       "      <td>9.970942e+08</td>\n",
       "      <td>999999.000000</td>\n",
       "      <td>1.913905e+08</td>\n",
       "      <td>5.812723e+09</td>\n",
       "      <td>2.000000</td>\n",
       "      <td>27.000000</td>\n",
       "      <td>1789.000000</td>\n",
       "      <td>2213.000000</td>\n",
       "      <td>...</td>\n",
       "      <td>3238.000000</td>\n",
       "      <td>10.000000</td>\n",
       "      <td>1696.000000</td>\n",
       "      <td>55.000000</td>\n",
       "      <td>116.000000</td>\n",
       "      <td>655.000000</td>\n",
       "      <td>1.065593e+06</td>\n",
       "      <td>3.000000</td>\n",
       "      <td>22.000000</td>\n",
       "      <td>2022.0</td>\n",
       "    </tr>\n",
       "  </tbody>\n",
       "</table>\n",
       "<p>8 rows × 23 columns</p>\n",
       "</div>"
      ],
      "text/plain": [
       "                 id           ein      zip_code     naics_code  \\\n",
       "count  3.102530e+05  3.102530e+05  3.102530e+05  310253.000000   \n",
       "mean   1.929420e+06  5.033580e+08  1.759189e+07  465541.355639   \n",
       "std    9.963610e+04  2.580139e+08  1.080365e+08  159700.115232   \n",
       "min    1.752479e+06  0.000000e+00  0.000000e+00  111110.000000   \n",
       "25%    1.845054e+06  3.200277e+08  2.957200e+04  333517.000000   \n",
       "50%    1.930580e+06  4.647663e+08  5.044100e+04  448130.000000   \n",
       "75%    2.015178e+06  7.415395e+08  7.911900e+04  561720.000000   \n",
       "max    2.101831e+06  1.000000e+09  9.970942e+08  999999.000000   \n",
       "\n",
       "       annual_average_employees  total_hours_worked  no_injuries_illnesses  \\\n",
       "count              3.102530e+05        3.102530e+05          310253.000000   \n",
       "mean               7.647129e+02        3.540227e+05               1.381911   \n",
       "std                3.436168e+05        1.805380e+07               0.485856   \n",
       "min                0.000000e+00        0.000000e+00               1.000000   \n",
       "25%                2.200000e+01        3.394100e+04               1.000000   \n",
       "50%                4.500000e+01        7.720500e+04               1.000000   \n",
       "75%                1.070000e+02        1.820180e+05               2.000000   \n",
       "max                1.913905e+08        5.812723e+09               2.000000   \n",
       "\n",
       "        total_deaths  total_dafw_cases  total_djtr_cases  ...  total_injuries  \\\n",
       "count  310253.000000     310253.000000     310253.000000  ...   310253.000000   \n",
       "mean        0.002630          2.238473          1.223772  ...        3.810713   \n",
       "std         0.072435         13.171043          7.914521  ...       17.025374   \n",
       "min         0.000000          0.000000          0.000000  ...        0.000000   \n",
       "25%         0.000000          0.000000          0.000000  ...        0.000000   \n",
       "50%         0.000000          0.000000          0.000000  ...        1.000000   \n",
       "75%         0.000000          1.000000          1.000000  ...        3.000000   \n",
       "max        27.000000       1789.000000       2213.000000  ...     3238.000000   \n",
       "\n",
       "       total_poisonings  total_respiratory_conditions  total_skin_disorders  \\\n",
       "count     310253.000000                 310253.000000         310253.000000   \n",
       "mean           0.001795                      0.808427              0.018201   \n",
       "std            0.065227                      9.886273              0.271576   \n",
       "min            0.000000                      0.000000              0.000000   \n",
       "25%            0.000000                      0.000000              0.000000   \n",
       "50%            0.000000                      0.000000              0.000000   \n",
       "75%            0.000000                      0.000000              0.000000   \n",
       "max           10.000000                   1696.000000             55.000000   \n",
       "\n",
       "       total_hearing_loss  total_other_illnesses  establishment_id  \\\n",
       "count       310253.000000          310253.000000      3.102530e+05   \n",
       "mean             0.030552               0.258231      7.132095e+05   \n",
       "std              0.608843               3.850749      3.031010e+05   \n",
       "min              0.000000               0.000000      4.192900e+04   \n",
       "25%              0.000000               0.000000      4.724140e+05   \n",
       "50%              0.000000               0.000000      8.269840e+05   \n",
       "75%              0.000000               0.000000      9.727110e+05   \n",
       "max            116.000000             655.000000      1.065593e+06   \n",
       "\n",
       "       establishment_type           size  year_filing_for  \n",
       "count       310253.000000  310253.000000         310253.0  \n",
       "mean             1.070646       1.951272           2022.0  \n",
       "std              0.349787       0.780987              0.0  \n",
       "min              0.000000       1.000000           2022.0  \n",
       "25%              1.000000       2.000000           2022.0  \n",
       "50%              1.000000       2.000000           2022.0  \n",
       "75%              1.000000       2.000000           2022.0  \n",
       "max              3.000000      22.000000           2022.0  \n",
       "\n",
       "[8 rows x 23 columns]"
      ]
     },
     "execution_count": 14,
     "metadata": {},
     "output_type": "execute_result"
    }
   ],
   "source": [
    "df.describe()"
   ]
  },
  {
   "cell_type": "code",
   "execution_count": 15,
   "metadata": {},
   "outputs": [
    {
     "data": {
      "text/html": [
       "<div>\n",
       "<style scoped>\n",
       "    .dataframe tbody tr th:only-of-type {\n",
       "        vertical-align: middle;\n",
       "    }\n",
       "\n",
       "    .dataframe tbody tr th {\n",
       "        vertical-align: top;\n",
       "    }\n",
       "\n",
       "    .dataframe thead th {\n",
       "        text-align: right;\n",
       "    }\n",
       "</style>\n",
       "<table border=\"1\" class=\"dataframe\">\n",
       "  <thead>\n",
       "    <tr style=\"text-align: right;\">\n",
       "      <th></th>\n",
       "      <th>company_name</th>\n",
       "      <th>establishment_name</th>\n",
       "      <th>street_address</th>\n",
       "      <th>city</th>\n",
       "      <th>state</th>\n",
       "      <th>industry_description</th>\n",
       "      <th>created_timestamp</th>\n",
       "    </tr>\n",
       "  </thead>\n",
       "  <tbody>\n",
       "    <tr>\n",
       "      <th>count</th>\n",
       "      <td>310253</td>\n",
       "      <td>310253</td>\n",
       "      <td>310253</td>\n",
       "      <td>310253</td>\n",
       "      <td>310253</td>\n",
       "      <td>310253</td>\n",
       "      <td>310253</td>\n",
       "    </tr>\n",
       "    <tr>\n",
       "      <th>unique</th>\n",
       "      <td>109191</td>\n",
       "      <td>294604</td>\n",
       "      <td>283840</td>\n",
       "      <td>23983</td>\n",
       "      <td>84</td>\n",
       "      <td>13096</td>\n",
       "      <td>333</td>\n",
       "    </tr>\n",
       "    <tr>\n",
       "      <th>top</th>\n",
       "      <td>US Postal Service</td>\n",
       "      <td>Main Office</td>\n",
       "      <td>VIRTUAL</td>\n",
       "      <td>Houston</td>\n",
       "      <td>CA</td>\n",
       "      <td>Unknown</td>\n",
       "      <td>3/1/2023</td>\n",
       "    </tr>\n",
       "    <tr>\n",
       "      <th>freq</th>\n",
       "      <td>10164</td>\n",
       "      <td>137</td>\n",
       "      <td>1866</td>\n",
       "      <td>2266</td>\n",
       "      <td>32246</td>\n",
       "      <td>22469</td>\n",
       "      <td>32267</td>\n",
       "    </tr>\n",
       "  </tbody>\n",
       "</table>\n",
       "</div>"
      ],
      "text/plain": [
       "             company_name establishment_name street_address     city   state  \\\n",
       "count              310253             310253         310253   310253  310253   \n",
       "unique             109191             294604         283840    23983      84   \n",
       "top     US Postal Service        Main Office        VIRTUAL  Houston      CA   \n",
       "freq                10164                137           1866     2266   32246   \n",
       "\n",
       "       industry_description created_timestamp  \n",
       "count                310253            310253  \n",
       "unique                13096               333  \n",
       "top                 Unknown          3/1/2023  \n",
       "freq                  22469             32267  "
      ]
     },
     "execution_count": 15,
     "metadata": {},
     "output_type": "execute_result"
    }
   ],
   "source": [
    "df.describe(include=\"object\")"
   ]
  },
  {
   "cell_type": "markdown",
   "metadata": {},
   "source": [
    "📊 Análisis de Estadísticas Descriptivas (Variables Categóricas)"
   ]
  },
  {
   "cell_type": "markdown",
   "metadata": {},
   "source": [
    "Aquí algunos insights clave sobre las columnas categóricas:\n",
    "\n",
    "company_name (Nombre de la empresa)\n",
    "\n",
    "- Total de registros: 310,253\n",
    "- Empresas únicas: 109,191\n",
    "- Empresa más frecuente: US Postal Service (10,164 registros)\n",
    "- Posible análisis: La alta frecuencia de algunas empresas indica que ciertos sectores pueden tener más incidentes reportados.\n",
    "\n",
    "establishment_name (Nombre del establecimiento)\n",
    "\n",
    "- Establecimientos únicos: 294,604\n",
    "- Más común: \"Main Office\" (137 veces)\n",
    "- Posible análisis: Algunos nombres genéricos como \"Main Office\" pueden representar múltiples ubicaciones de la misma empresa.\n",
    "\n",
    "street_address (Dirección del establecimiento)\n",
    "\n",
    "- Direcciones únicas: 283,840\n",
    "- Más común: \"VIRTUAL\" (1,866 veces)\n",
    "- Posible análisis: La presencia de \"VIRTUAL\" puede indicar establecimientos sin ubicación física (¿trabajo remoto?).\n",
    "\n",
    "city (Ciudad)\n",
    "\n",
    "- Ciudades únicas: 23,983\n",
    "- Ciudad más reportada: Houston (2,266 veces)\n",
    "- Posible análisis: Houston podría ser un foco de incidentes debido a su tamaño o a la industria presente.\n",
    "\n",
    "state (Estado)\n",
    "\n",
    "- Estados únicos: 84 (¿Incluye territorios de EE.UU.?)\n",
    "- Estado más reportado: California (CA) (32,246 registros)\n",
    "- Posible análisis: California podría tener más incidentes debido a su gran población e industrias con alto riesgo.\n",
    "\n",
    "industry_description (Industria del establecimiento)\n",
    "\n",
    "- Industrias únicas: 13,096\n",
    "- Categoría más común: \"Unknown\" (22,469 registros, ~7.2%)\n",
    "- Posible análisis: Muchas industrias no están especificadas, lo que podría afectar análisis sectoriales.\n",
    "\n",
    "created_timestamp (Fecha de creación del registro)\n",
    "\n",
    "- Fechas únicas: 333\n",
    "- Fecha más común: 3/1/2023 (32,267 registros)\n",
    "- Posible análisis: Se debe investigar si hay picos de reportes en ciertas fechas."
   ]
  },
  {
   "cell_type": "markdown",
   "metadata": {},
   "source": [
    "# ANALISIS\n",
    "\n",
    "Estos análisis ayudan a:\n",
    "\n",
    "✅ Mejorar la calidad de los datos antes de aplicar modelos de Machine Learning.\n",
    "\n",
    "✅ Encontrar patrones clave para la toma de decisiones sobre seguridad laboral.\n",
    "\n",
    "✅ Evitar problemas en la geolocalización y análisis temporales."
   ]
  },
  {
   "cell_type": "markdown",
   "metadata": {},
   "source": [
    "1️⃣ Revisar si \"VIRTUAL\" en street_address afecta la geolocalización\n",
    "📌 Objetivo: Evaluar si las direcciones \"VIRTUAL\" pueden generar problemas en análisis geoespaciales.\n",
    "\n",
    "🔍 Razón:\n",
    "\n",
    "Si hay registros con \"VIRTUAL\", significa que no tienen una ubicación física real.\n",
    "\n",
    "Esto puede afectar análisis de mapas, ya que estos datos no se pueden geocodificar correctamente.\n",
    "\n",
    "Puede ser necesario excluirlos o tratarlos de forma especial en análisis geográficos.\n",
    "\n",
    "✏️ Acción posible:\n",
    "\n",
    "Contar cuántos registros tienen \"VIRTUAL\" y evaluar si representan una proporción significativa.\n",
    "\n",
    "Analizar si estos registros corresponden a industrias específicas o tipos de establecimientos con trabajo remoto.\n"
   ]
  },
  {
   "cell_type": "markdown",
   "metadata": {},
   "source": [
    "Pasos a seguir:\n",
    "\n",
    "1️⃣ Contar cuántos registros tienen \"VIRTUAL\" en street_address.\n",
    "\n",
    "2️⃣ Evaluar si estos registros están concentrados en ciertas industrias (industry_description) o estados (state).\n",
    "\n",
    "3️⃣ Analizar si afectan el análisis geoespacial (ej. si representan un porcentaje alto del total)."
   ]
  },
  {
   "cell_type": "code",
   "execution_count": 16,
   "metadata": {},
   "outputs": [
    {
     "name": "stdout",
     "output_type": "stream",
     "text": [
      "Registros con 'VIRTUAL' en street_address: 1866\n",
      "Porcentaje sobre el total: 0.60%\n",
      "\n",
      "Top 10 estados con más direcciones 'VIRTUAL':\n",
      "state\n",
      "FL    166\n",
      "CA    134\n",
      "NC    111\n",
      "TX    107\n",
      "NY    107\n",
      "NJ     80\n",
      "OH     69\n",
      "SC     60\n",
      "PA     58\n",
      "GA     56\n",
      "Name: count, dtype: int64\n",
      "\n",
      "Top 10 industrias con más direcciones 'VIRTUAL':\n",
      "industry_description\n",
      "Office Equipment    1864\n",
      "Unknown                2\n",
      "Name: count, dtype: int64\n"
     ]
    }
   ],
   "source": [
    "# 1️⃣ Contar registros con \"VIRTUAL\" en street_address\n",
    "virtual_count = df[df[\"street_address\"] == \"VIRTUAL\"].shape[0]\n",
    "total_count = df.shape[0]\n",
    "percentage_virtual = (virtual_count / total_count) * 100\n",
    "\n",
    "print(f\"Registros con 'VIRTUAL' en street_address: {virtual_count}\")\n",
    "print(f\"Porcentaje sobre el total: {percentage_virtual:.2f}%\")\n",
    "\n",
    "# 2️⃣ Ver en qué estados e industrias ocurre más\n",
    "virtual_by_state = df[df[\"street_address\"] == \"VIRTUAL\"][\"state\"].value_counts()\n",
    "virtual_by_industry = df[df[\"street_address\"] == \"VIRTUAL\"][\"industry_description\"].value_counts()\n",
    "\n",
    "# Mostrar los 10 estados con más registros \"VIRTUAL\"\n",
    "print(\"\\nTop 10 estados con más direcciones 'VIRTUAL':\")\n",
    "print(virtual_by_state.head(10))\n",
    "\n",
    "# Mostrar las 10 industrias más afectadas\n",
    "print(\"\\nTop 10 industrias con más direcciones 'VIRTUAL':\")\n",
    "print(virtual_by_industry.head(10))\n"
   ]
  },
  {
   "cell_type": "markdown",
   "metadata": {},
   "source": [
    "# 📊 Análisis de \"VIRTUAL\" en street_address\n",
    "\n",
    "🔹 Conclusiones clave\n",
    "\n",
    "✅ Solo 0.60% de los registros tienen \"VIRTUAL\" como dirección, por lo que su impacto es bajo en términos de volumen.\n",
    "\n",
    "✅ Se concentra en 10 estados, con Florida (FL) como el más afectado (166 registros).\n",
    "\n",
    "✅ Casi todos los registros (1864 de 1866) pertenecen a la industria Office Equipment.\n",
    "\n",
    "🔹 Posibles implicaciones en la geolocalización\n",
    "\n",
    "1️⃣ Riesgo de datos sin ubicación física real 🏢\n",
    "\n",
    "Si queremos hacer análisis geoespacial (ej. mapas de calor de incidentes), estos registros podrían generar inconsistencias porque no tienen una dirección válida.\n",
    "Si estamos usando APIs de geocodificación (Google Maps, OpenStreetMap), estas direcciones podrían no devolver coordenadas válidas.\n",
    "\n",
    "2️⃣ Poca diversidad industrial 🏭\n",
    "\n",
    "Dado que el 99.9% de estos registros son de Office Equipment, podríamos tratarlos como una excepción específica de esa industria en lugar de un problema general de los datos.\n",
    "\n",
    "3️⃣ Posible limpieza de datos 🧹\n",
    "\n",
    "Opción 1: Si estos registros afectan nuestros análisis espaciales, podríamos excluirlos.\n",
    "\n",
    "Opción 2: Si queremos mantenerlos, podríamos reemplazar \"VIRTUAL\" con la ciudad/estado correspondiente (si está disponible)."
   ]
  },
  {
   "cell_type": "code",
   "execution_count": 17,
   "metadata": {},
   "outputs": [
    {
     "name": "stdout",
     "output_type": "stream",
     "text": [
      "Registros restantes: 308387\n",
      "Registros con 'VIRTUAL' en street_address después de la limpieza: 0\n"
     ]
    }
   ],
   "source": [
    "# Eliminar registros con 'VIRTUAL' en street_address\n",
    "df = df[df[\"street_address\"] != \"VIRTUAL\"]\n",
    "\n",
    "# Verificar que los registros fueron eliminados\n",
    "print(f\"Registros restantes: {len(df)}\")\n",
    "print(f\"Registros con 'VIRTUAL' en street_address después de la limpieza: {df[df['street_address'] == 'VIRTUAL'].shape[0]}\")"
   ]
  },
  {
   "cell_type": "markdown",
   "metadata": {},
   "source": [
    "# 2️⃣ Analizar la distribución de incidentes por state e industry_description\n",
    "\n",
    "📌 Objetivos del análisis\n",
    "\n",
    "1️⃣ Identificar qué estados tienen más incidentes reportados.\n",
    "\n",
    "2️⃣ Determinar qué industrias son las más afectadas.\n",
    "\n",
    "3️⃣ Visualizar patrones que puedan ayudar a entender dónde y en qué sectores ocurren más accidentes."
   ]
  },
  {
   "cell_type": "code",
   "execution_count": 19,
   "metadata": {},
   "outputs": [
    {
     "data": {
      "text/plain": [
       "state\n",
       "CA    43514\n",
       "TX    33285\n",
       "FL    23528\n",
       "NY    18933\n",
       "OH    18780\n",
       "IL    18288\n",
       "PA    17945\n",
       "NC    15882\n",
       "MN    14347\n",
       "MI    13819\n",
       "Name: no_injuries_illnesses, dtype: int64"
      ]
     },
     "execution_count": 19,
     "metadata": {},
     "output_type": "execute_result"
    }
   ],
   "source": [
    "# análisis por estado\n",
    "incident_count_by_state = df.groupby(\"state\")[\"no_injuries_illnesses\"].sum().sort_values(ascending=False)\n",
    "incident_count_by_state.head(10)  # Top 10 estados con más incidentes"
   ]
  },
  {
   "cell_type": "markdown",
   "metadata": {},
   "source": [
    "observaciones:\n",
    "\n",
    "🔹 California (CA) tiene la mayor cantidad de incidentes reportados (43,514), lo que puede deberse a su gran población y fuerte presencia industrial.\n",
    "\n",
    "🔹 Texas (TX) y Florida (FL) le siguen con 33,285 y 23,528 incidentes respectivamente, lo cual es consistente con su tamaño y actividad económica.\n",
    "\n",
    "🔹 Estados industriales como Ohio (OH), Illinois (IL) y Pensilvania (PA) también presentan altos números de accidentes."
   ]
  },
  {
   "cell_type": "markdown",
   "metadata": {},
   "source": [
    "📊 Próximo paso: Visualización # ESTOY AQUIII!"
   ]
  },
  {
   "cell_type": "code",
   "execution_count": null,
   "metadata": {},
   "outputs": [],
   "source": []
  },
  {
   "cell_type": "markdown",
   "metadata": {},
   "source": [
    "3️⃣ Explorar la variación de reportes en el tiempo con created_timestamp\n",
    "📌 Objetivo: Evaluar tendencias temporales en la generación de reportes de incidentes.\n",
    "\n",
    "🔍 Razón:\n",
    "\n",
    "Puede haber picos de reportes en ciertos meses (ej. inicio de año, después de inspecciones).\n",
    "\n",
    "Identificar tendencias como aumento o disminución de reportes a lo largo del tiempo.\n",
    "\n",
    "Ayuda a entender si los incidentes están relacionados con eventos específicos (ej. nuevas regulaciones).\n",
    "\n",
    "✏️ Acción posible:\n",
    "\n",
    "Crear una serie temporal con la cantidad de reportes por mes/año.\n",
    "\n",
    "Comparar años diferentes para ver si hay cambios en la cantidad de incidentes reportados.\n",
    "\n",
    "Identificar posibles sesgos en la recolección de datos (ej. muchos reportes en una sola fecha).\n"
   ]
  }
 ],
 "metadata": {
  "kernelspec": {
   "display_name": "DataScience",
   "language": "python",
   "name": "python3"
  },
  "language_info": {
   "codemirror_mode": {
    "name": "ipython",
    "version": 3
   },
   "file_extension": ".py",
   "mimetype": "text/x-python",
   "name": "python",
   "nbconvert_exporter": "python",
   "pygments_lexer": "ipython3",
   "version": "3.12.8"
  }
 },
 "nbformat": 4,
 "nbformat_minor": 2
}
