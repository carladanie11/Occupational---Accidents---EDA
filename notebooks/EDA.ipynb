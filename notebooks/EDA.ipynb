{
 "cells": [
  {
   "cell_type": "markdown",
   "metadata": {},
   "source": [
    "Inspección Inicial del Archivo"
   ]
  },
  {
   "cell_type": "code",
   "execution_count": 24,
   "metadata": {},
   "outputs": [
    {
     "name": "stdout",
     "output_type": "stream",
     "text": [
      "Tipo de dato antes: object\n",
      "Tipo de dato después: float64\n",
      "Cantidad de valores convertidos en NaN: 36543\n"
     ]
    }
   ],
   "source": [
    "import pandas as pd\n",
    "\n",
    "# Cargar los datos sin especificar tipos\n",
    "df = pd.read_csv(\"../data/OSHA/Data.csv\", low_memory=False)\n",
    "\n",
    "# Verificar el tipo de la columna antes de la conversión\n",
    "columna_objetivo = df.columns[3]  # Nombre de la columna en la posición 3\n",
    "print(f\"Tipo de dato antes: {df[columna_objetivo].dtype}\")\n",
    "\n",
    "# Eliminar espacios en blanco o caracteres extraños en la columna (si los hay)\n",
    "df[columna_objetivo] = df[columna_objetivo].astype(str).str.strip()\n",
    "\n",
    "# Intentar conversión a numérico nuevamente\n",
    "df[columna_objetivo] = pd.to_numeric(df[columna_objetivo], errors=\"coerce\")\n",
    "\n",
    "# Verificar el tipo de la columna después de la conversión\n",
    "print(f\"Tipo de dato después: {df[columna_objetivo].dtype}\")\n",
    "\n",
    "# Contar valores NaN\n",
    "print(f\"Cantidad de valores convertidos en NaN: {df[columna_objetivo].isna().sum()}\")\n"
   ]
  },
  {
   "cell_type": "code",
   "execution_count": 25,
   "metadata": {},
   "outputs": [
    {
     "name": "stdout",
     "output_type": "stream",
     "text": [
      "[nan]\n"
     ]
    }
   ],
   "source": [
    "# Mostrar valores únicos problemáticos\n",
    "valores_problematicos = df[df[columna_objetivo].isna()][columna_objetivo]\n",
    "print(valores_problematicos.unique())  # Ver qué valores están causando problemas"
   ]
  },
  {
   "cell_type": "markdown",
   "metadata": {},
   "source": [
    "Manejo de NaN"
   ]
  },
  {
   "cell_type": "code",
   "execution_count": 26,
   "metadata": {},
   "outputs": [
    {
     "name": "stdout",
     "output_type": "stream",
     "text": [
      "Total de filas en el dataset: 346799\n"
     ]
    }
   ],
   "source": [
    "# Ver cuántos registros totales tiene el dataset\n",
    "print(f\"Total de filas en el dataset: {df.shape[0]}\")"
   ]
  },
  {
   "cell_type": "code",
   "execution_count": 27,
   "metadata": {},
   "outputs": [],
   "source": [
    "# eliminar filas no afectará el análisis\n",
    "df.dropna(subset=[columna_objetivo], inplace=True)"
   ]
  },
  {
   "cell_type": "code",
   "execution_count": 29,
   "metadata": {},
   "outputs": [
    {
     "name": "stdout",
     "output_type": "stream",
     "text": [
      "Cantidad de valores NaN después de la limpieza: 0\n",
      "Total de filas después de la limpieza: 310256\n"
     ]
    }
   ],
   "source": [
    "# Verificar que ya no hay NaN en la columna\n",
    "print(f\"Cantidad de valores NaN después de la limpieza: {df[columna_objetivo].isna().sum()}\")\n",
    "\n",
    "# Verificar el nuevo tamaño del dataset\n",
    "print(f\"Total de filas después de la limpieza: {df.shape[0]}\")\n"
   ]
  },
  {
   "cell_type": "markdown",
   "metadata": {},
   "source": [
    "# Exploración de Datos (EDA)"
   ]
  }
 ],
 "metadata": {
  "kernelspec": {
   "display_name": "DataScience",
   "language": "python",
   "name": "python3"
  },
  "language_info": {
   "codemirror_mode": {
    "name": "ipython",
    "version": 3
   },
   "file_extension": ".py",
   "mimetype": "text/x-python",
   "name": "python",
   "nbconvert_exporter": "python",
   "pygments_lexer": "ipython3",
   "version": "3.12.8"
  }
 },
 "nbformat": 4,
 "nbformat_minor": 2
}
