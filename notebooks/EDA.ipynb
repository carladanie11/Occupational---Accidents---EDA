{
 "cells": [
  {
   "cell_type": "markdown",
   "metadata": {},
   "source": [
    "Inspección Inicial del Archivo"
   ]
  },
  {
   "cell_type": "code",
   "execution_count": 1,
   "metadata": {},
   "outputs": [
    {
     "name": "stdout",
     "output_type": "stream",
     "text": [
      "Tipo de dato antes: object\n",
      "Tipo de dato después: float64\n",
      "Cantidad de valores convertidos en NaN: 36543\n"
     ]
    }
   ],
   "source": [
    "import pandas as pd\n",
    "\n",
    "# Cargar los datos sin especificar tipos\n",
    "df = pd.read_csv(\"../data/OSHA/Data.csv\", low_memory=False)\n",
    "\n",
    "# Verificar el tipo de la columna antes de la conversión\n",
    "columna_objetivo = df.columns[3]  # Nombre de la columna en la posición 3\n",
    "print(f\"Tipo de dato antes: {df[columna_objetivo].dtype}\")\n",
    "\n",
    "# Eliminar espacios en blanco o caracteres extraños en la columna (si los hay)\n",
    "df[columna_objetivo] = df[columna_objetivo].astype(str).str.strip()\n",
    "\n",
    "# Intentar conversión a numérico nuevamente\n",
    "df[columna_objetivo] = pd.to_numeric(df[columna_objetivo], errors=\"coerce\")\n",
    "\n",
    "# Verificar el tipo de la columna después de la conversión\n",
    "print(f\"Tipo de dato después: {df[columna_objetivo].dtype}\")\n",
    "\n",
    "# Contar valores NaN\n",
    "print(f\"Cantidad de valores convertidos en NaN: {df[columna_objetivo].isna().sum()}\")\n"
   ]
  },
  {
   "cell_type": "code",
   "execution_count": 2,
   "metadata": {},
   "outputs": [
    {
     "name": "stdout",
     "output_type": "stream",
     "text": [
      "[nan]\n"
     ]
    }
   ],
   "source": [
    "# Mostrar valores únicos problemáticos\n",
    "valores_problematicos = df[df[columna_objetivo].isna()][columna_objetivo]\n",
    "print(valores_problematicos.unique())  # Ver qué valores están causando problemas"
   ]
  },
  {
   "cell_type": "markdown",
   "metadata": {},
   "source": [
    "Manejo de NaN"
   ]
  },
  {
   "cell_type": "code",
   "execution_count": 3,
   "metadata": {},
   "outputs": [
    {
     "name": "stdout",
     "output_type": "stream",
     "text": [
      "Total de filas en el dataset: 346799\n"
     ]
    }
   ],
   "source": [
    "# Ver cuántos registros totales tiene el dataset\n",
    "print(f\"Total de filas en el dataset: {df.shape[0]}\")"
   ]
  },
  {
   "cell_type": "code",
   "execution_count": 4,
   "metadata": {},
   "outputs": [],
   "source": [
    "# eliminar filas no afectará el análisis\n",
    "df.dropna(subset=[columna_objetivo], inplace=True)"
   ]
  },
  {
   "cell_type": "code",
   "execution_count": 5,
   "metadata": {},
   "outputs": [
    {
     "name": "stdout",
     "output_type": "stream",
     "text": [
      "Cantidad de valores NaN después de la limpieza: 0\n",
      "Total de filas después de la limpieza: 310256\n"
     ]
    }
   ],
   "source": [
    "# Verificar que ya no hay NaN en la columna\n",
    "print(f\"Cantidad de valores NaN después de la limpieza: {df[columna_objetivo].isna().sum()}\")\n",
    "\n",
    "# Verificar el nuevo tamaño del dataset\n",
    "print(f\"Total de filas después de la limpieza: {df.shape[0]}\")\n"
   ]
  },
  {
   "cell_type": "code",
   "execution_count": 8,
   "metadata": {},
   "outputs": [
    {
     "name": "stdout",
     "output_type": "stream",
     "text": [
      "        id                                     company_name  \\\n",
      "0  1752479                     Diamond S Mobile Welding LLC   \n",
      "1  1752480  T&J Industries Development and Contracting, Inc   \n",
      "2  1752481                                 Divine Power LLC   \n",
      "3  1752482                                           Vac2Go   \n",
      "4  1752483                                           Vac2Go   \n",
      "\n",
      "                                establishment_name          ein  \\\n",
      "0                     Diamond S Mobile Welding LLC  870992458.0   \n",
      "1  T&J Industries Development and Contracting, Inc  271904473.0   \n",
      "2                                 Divine Power LLC  820978176.0   \n",
      "3                           Crown Point, IN Branch  800771071.0   \n",
      "4                             Deer Park, TX Branch  800771071.0   \n",
      "\n",
      "        street_address         city state  zip_code  naics_code  \\\n",
      "0  101 W. Hamlin Trail   Frostproof    FL     33843      333992   \n",
      "1    4600 Cleveland Rd     Lithonia    GA     30038      237110   \n",
      "2   4422 Highway 29 S.         Hope    AR     71801      237130   \n",
      "3   601 East 112th Ave  Crown Point    IN     46307      532120   \n",
      "4        1150 Hall Ct.    Deer Park    TX     77536      532120   \n",
      "\n",
      "                                industry_description  ...  \\\n",
      "0                                            Welding  ...   \n",
      "1                                utility contractors  ...   \n",
      "2                                         Power Line  ...   \n",
      "3                      Vacuum Truck Rental & Service  ...   \n",
      "4  Truck, Utility Trailer, and RV (Recreational V...  ...   \n",
      "\n",
      "   total_respiratory_conditions  total_skin_disorders  total_hearing_loss  \\\n",
      "0                             0                     0                   0   \n",
      "1                             0                     0                   0   \n",
      "2                             0                     0                   0   \n",
      "3                             0                     0                   0   \n",
      "4                             0                     0                   0   \n",
      "\n",
      "   total_other_illnesses  establishment_id  establishment_type  size  \\\n",
      "0                      0            905945                 1.0     1   \n",
      "1                      0            812418                 1.0     2   \n",
      "2                      0            913636                 1.0     2   \n",
      "3                      0            914148                 1.0     1   \n",
      "4                      0            914149                 1.0     1   \n",
      "\n",
      "   year_filing_for  created_timestamp  change_reason  \n",
      "0             2022           1/1/2023            NaN  \n",
      "1             2022           1/1/2023            NaN  \n",
      "2             2022           1/1/2023            NaN  \n",
      "3             2022           1/1/2023            NaN  \n",
      "4             2022           1/1/2023            NaN  \n",
      "\n",
      "[5 rows x 31 columns]\n",
      "<class 'pandas.core.frame.DataFrame'>\n",
      "Index: 310256 entries, 0 to 346798\n",
      "Data columns (total 31 columns):\n",
      " #   Column                        Non-Null Count   Dtype  \n",
      "---  ------                        --------------   -----  \n",
      " 0   id                            310256 non-null  int64  \n",
      " 1   company_name                  299886 non-null  object \n",
      " 2   establishment_name            310255 non-null  object \n",
      " 3   ein                           310256 non-null  float64\n",
      " 4   street_address                310255 non-null  object \n",
      " 5   city                          310255 non-null  object \n",
      " 6   state                         310256 non-null  object \n",
      " 7   zip_code                      310256 non-null  int64  \n",
      " 8   naics_code                    310256 non-null  int64  \n",
      " 9   industry_description          287793 non-null  object \n",
      " 10  annual_average_employees      310256 non-null  int64  \n",
      " 11  total_hours_worked            310255 non-null  float64\n",
      " 12  no_injuries_illnesses         310256 non-null  int64  \n",
      " 13  total_deaths                  310256 non-null  int64  \n",
      " 14  total_dafw_cases              310256 non-null  int64  \n",
      " 15  total_djtr_cases              310256 non-null  int64  \n",
      " 16  total_other_cases             310256 non-null  int64  \n",
      " 17  total_dafw_days               310256 non-null  int64  \n",
      " 18  total_djtr_days               310256 non-null  int64  \n",
      " 19  total_injuries                310256 non-null  int64  \n",
      " 20  total_poisonings              310256 non-null  int64  \n",
      " 21  total_respiratory_conditions  310256 non-null  int64  \n",
      " 22  total_skin_disorders          310256 non-null  int64  \n",
      " 23  total_hearing_loss            310256 non-null  int64  \n",
      " 24  total_other_illnesses         310256 non-null  int64  \n",
      " 25  establishment_id              310256 non-null  int64  \n",
      " 26  establishment_type            309036 non-null  float64\n",
      " 27  size                          310256 non-null  int64  \n",
      " 28  year_filing_for               310256 non-null  int64  \n",
      " 29  created_timestamp             310256 non-null  object \n",
      " 30  change_reason                 9063 non-null    object \n",
      "dtypes: float64(3), int64(20), object(8)\n",
      "memory usage: 75.7+ MB\n",
      "None\n",
      "id                                   0\n",
      "company_name                     10370\n",
      "establishment_name                   1\n",
      "ein                                  0\n",
      "street_address                       1\n",
      "city                                 1\n",
      "state                                0\n",
      "zip_code                             0\n",
      "naics_code                           0\n",
      "industry_description             22463\n",
      "annual_average_employees             0\n",
      "total_hours_worked                   1\n",
      "no_injuries_illnesses                0\n",
      "total_deaths                         0\n",
      "total_dafw_cases                     0\n",
      "total_djtr_cases                     0\n",
      "total_other_cases                    0\n",
      "total_dafw_days                      0\n",
      "total_djtr_days                      0\n",
      "total_injuries                       0\n",
      "total_poisonings                     0\n",
      "total_respiratory_conditions         0\n",
      "total_skin_disorders                 0\n",
      "total_hearing_loss                   0\n",
      "total_other_illnesses                0\n",
      "establishment_id                     0\n",
      "establishment_type                1220\n",
      "size                                 0\n",
      "year_filing_for                      0\n",
      "created_timestamp                    0\n",
      "change_reason                   301193\n",
      "dtype: int64\n"
     ]
    }
   ],
   "source": [
    "# Inspeccionar las primeras filas\n",
    "print(df.head())\n",
    "\n",
    "# Verificar información general\n",
    "print(df.info())\n",
    "\n",
    "# Revisar valores nulos\n",
    "print(df.isnull().sum())\n"
   ]
  },
  {
   "cell_type": "markdown",
   "metadata": {},
   "source": [
    "# Exploración de Datos (EDA)"
   ]
  },
  {
   "cell_type": "markdown",
   "metadata": {},
   "source": [
    "Inspección General"
   ]
  },
  {
   "cell_type": "code",
   "execution_count": 10,
   "metadata": {},
   "outputs": [
    {
     "name": "stdout",
     "output_type": "stream",
     "text": [
      "Total de filas duplicadas: 0\n"
     ]
    }
   ],
   "source": [
    "\n",
    "# verificar si hay valores duplicados\n",
    "print(f\"Total de filas duplicadas: {df.duplicated().sum()}\")"
   ]
  },
  {
   "cell_type": "code",
   "execution_count": null,
   "metadata": {},
   "outputs": [],
   "source": [
    "# Manejo de Valores Faltantes: Columnas con pocos valores faltantes\n",
    "df.dropna(subset=[\"establishment_name\", \"street_address\", \"city\", \"total_hours_worked\"], inplace=True)"
   ]
  },
  {
   "cell_type": "code",
   "execution_count": 12,
   "metadata": {},
   "outputs": [],
   "source": [
    "# Columnas con muchos valores NaN\n",
    "df.drop(columns=[\"change_reason\"], inplace=True)"
   ]
  },
  {
   "cell_type": "code",
   "execution_count": 14,
   "metadata": {},
   "outputs": [],
   "source": [
    "df[\"industry_description\"] = df[\"industry_description\"].fillna(\"Unknown\")\n",
    "df[\"establishment_type\"] = df[\"establishment_type\"].fillna(df[\"establishment_type\"].mode()[0])  # Rellenar con el valor más común"
   ]
  },
  {
   "cell_type": "code",
   "execution_count": 15,
   "metadata": {},
   "outputs": [
    {
     "name": "stdout",
     "output_type": "stream",
     "text": [
      "id                                  0\n",
      "company_name                    10370\n",
      "establishment_name                  0\n",
      "ein                                 0\n",
      "street_address                      0\n",
      "city                                0\n",
      "state                               0\n",
      "zip_code                            0\n",
      "naics_code                          0\n",
      "industry_description                0\n",
      "annual_average_employees            0\n",
      "total_hours_worked                  0\n",
      "no_injuries_illnesses               0\n",
      "total_deaths                        0\n",
      "total_dafw_cases                    0\n",
      "total_djtr_cases                    0\n",
      "total_other_cases                   0\n",
      "total_dafw_days                     0\n",
      "total_djtr_days                     0\n",
      "total_injuries                      0\n",
      "total_poisonings                    0\n",
      "total_respiratory_conditions        0\n",
      "total_skin_disorders                0\n",
      "total_hearing_loss                  0\n",
      "total_other_illnesses               0\n",
      "establishment_id                    0\n",
      "establishment_type                  0\n",
      "size                                0\n",
      "year_filing_for                     0\n",
      "created_timestamp                   0\n",
      "dtype: int64\n"
     ]
    }
   ],
   "source": [
    "# Revisar nuevamente los valores NaN\n",
    "print(df.isnull().sum())"
   ]
  },
  {
   "cell_type": "code",
   "execution_count": 17,
   "metadata": {},
   "outputs": [],
   "source": [
    "df[\"company_name\"] = df[\"company_name\"].fillna(df[\"establishment_name\"])"
   ]
  },
  {
   "cell_type": "code",
   "execution_count": 18,
   "metadata": {},
   "outputs": [
    {
     "data": {
      "text/plain": [
       "0"
      ]
     },
     "execution_count": 18,
     "metadata": {},
     "output_type": "execute_result"
    }
   ],
   "source": [
    "df[\"company_name\"].isna().sum()"
   ]
  },
  {
   "cell_type": "markdown",
   "metadata": {},
   "source": [
    "Estadísticas descriptivas del dataset"
   ]
  }
 ],
 "metadata": {
  "kernelspec": {
   "display_name": "DataScience",
   "language": "python",
   "name": "python3"
  },
  "language_info": {
   "codemirror_mode": {
    "name": "ipython",
    "version": 3
   },
   "file_extension": ".py",
   "mimetype": "text/x-python",
   "name": "python",
   "nbconvert_exporter": "python",
   "pygments_lexer": "ipython3",
   "version": "3.12.8"
  }
 },
 "nbformat": 4,
 "nbformat_minor": 2
}
